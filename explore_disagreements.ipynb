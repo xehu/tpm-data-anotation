{
 "cells": [
  {
   "cell_type": "code",
   "execution_count": 1,
   "metadata": {},
   "outputs": [],
   "source": [
    "import pandas as pd"
   ]
  },
  {
   "cell_type": "code",
   "execution_count": 2,
   "metadata": {},
   "outputs": [],
   "source": [
    "rating_log = pd.read_csv(\"CONFLICT_CONVO_LABELING_LOG.csv\")"
   ]
  },
  {
   "cell_type": "code",
   "execution_count": 3,
   "metadata": {},
   "outputs": [
    {
     "data": {
      "text/plain": [
       "78"
      ]
     },
     "execution_count": 3,
     "metadata": {},
     "output_type": "execute_result"
    }
   ],
   "source": [
    "# number of unique conversations so far\n",
    "len(rating_log[\"CONV_ID\"].unique())"
   ]
  },
  {
   "cell_type": "code",
   "execution_count": 4,
   "metadata": {},
   "outputs": [],
   "source": [
    "OI_expression = pd.read_csv(\"./disagreed_messages/OI_expression.csv\")"
   ]
  },
  {
   "cell_type": "code",
   "execution_count": 5,
   "metadata": {},
   "outputs": [],
   "source": [
    "OI_expression_disagreements = OI_expression.merge(rating_log, on = \"id\", how = \"left\")[[\"id\", \"text\", \"rating_OI_expression\", \"rater_id\"]]\n",
    "OI_expression_disagreements.to_csv('./disagreed_messages/OI_expression_3-15-24.csv')"
   ]
  },
  {
   "cell_type": "code",
   "execution_count": 6,
   "metadata": {},
   "outputs": [],
   "source": [
    "directness_expression = pd.read_csv(\"./disagreed_messages/directness_expression.csv\")"
   ]
  },
  {
   "cell_type": "code",
   "execution_count": 7,
   "metadata": {},
   "outputs": [],
   "source": [
    "directness_expression_disagreements = directness_expression.merge(rating_log, on = \"id\", how = \"left\")[[\"id\", \"text\", \"rating_directness_expression\", \"rater_id\"]]\n",
    "directness_expression_disagreements.to_csv('./disagreed_messages/directness_expression_3-15-24.csv')"
   ]
  },
  {
   "cell_type": "code",
   "execution_count": 8,
   "metadata": {},
   "outputs": [],
   "source": [
    "directness_content = pd.read_csv(\"./disagreed_messages/directness_content.csv\")"
   ]
  },
  {
   "cell_type": "code",
   "execution_count": 9,
   "metadata": {},
   "outputs": [],
   "source": [
    "directness_content_disagreements = directness_content.merge(rating_log, on = \"id\", how = \"left\")[[\"id\", \"text\", \"rating_directness_content\", \"rater_id\"]]\n",
    "directness_content_disagreements.to_csv('./disagreed_messages/directness_content_3-15-24.csv')"
   ]
  },
  {
   "cell_type": "code",
   "execution_count": 10,
   "metadata": {},
   "outputs": [],
   "source": [
    "OI_content = pd.read_csv(\"./disagreed_messages/OI_content.csv\")"
   ]
  },
  {
   "cell_type": "code",
   "execution_count": 11,
   "metadata": {},
   "outputs": [],
   "source": [
    "OI_content_disagreements = directness_content.merge(rating_log, on = \"id\", how = \"left\")[[\"id\", \"text\", \"rating_OI_content\", \"rater_id\"]]\n",
    "OI_content_disagreements.to_csv('./disagreed_messages/OI_content_3-15-24.csv')"
   ]
  }
 ],
 "metadata": {
  "kernelspec": {
   "display_name": "tpm_conflict",
   "language": "python",
   "name": "python3"
  },
  "language_info": {
   "codemirror_mode": {
    "name": "ipython",
    "version": 3
   },
   "file_extension": ".py",
   "mimetype": "text/x-python",
   "name": "python",
   "nbconvert_exporter": "python",
   "pygments_lexer": "ipython3",
   "version": "3.11.7"
  }
 },
 "nbformat": 4,
 "nbformat_minor": 2
}
